{
 "cells": [
  {
   "cell_type": "code",
   "execution_count": 12,
   "metadata": {},
   "outputs": [],
   "source": [
    "inp = open('day7.txt', 'r').read()"
   ]
  },
  {
   "cell_type": "code",
   "execution_count": null,
   "metadata": {},
   "outputs": [
    {
     "data": {
      "text/plain": [
       "106016735664498"
      ]
     },
     "execution_count": 14,
     "metadata": {},
     "output_type": "execute_result"
    }
   ],
   "source": [
    "import re\n",
    "\n",
    "def solve(r, t):\n",
    "    def f(c, i):\n",
    "        if i == len(r):\n",
    "            return c == t\n",
    "        return f(c * r[i], i + 1) or f(c + r[i], i + 1) or f(int(str(c) + str(r[i])), i+1)\n",
    "    return f(r[0], 1)\n",
    "\n",
    "cnt = 0\n",
    "for l in inp.split('\\n'):\n",
    "    l = [int(d) for d in re.findall(r\"\\d+\", l)]\n",
    "    t = l[0]\n",
    "    r = l[1:]\n",
    "    if solve(r, t):\n",
    "        cnt += t\n",
    "cnt"
   ]
  },
  {
   "cell_type": "code",
   "execution_count": null,
   "metadata": {},
   "outputs": [],
   "source": []
  }
 ],
 "metadata": {
  "kernelspec": {
   "display_name": "Python 3",
   "language": "python",
   "name": "python3"
  },
  "language_info": {
   "codemirror_mode": {
    "name": "ipython",
    "version": 3
   },
   "file_extension": ".py",
   "mimetype": "text/x-python",
   "name": "python",
   "nbconvert_exporter": "python",
   "pygments_lexer": "ipython3",
   "version": "3.13.0"
  }
 },
 "nbformat": 4,
 "nbformat_minor": 2
}

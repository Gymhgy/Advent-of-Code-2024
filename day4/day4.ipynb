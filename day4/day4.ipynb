{
 "cells": [
  {
   "cell_type": "code",
   "execution_count": 19,
   "metadata": {},
   "outputs": [],
   "source": [
    "content = open('day4.txt', 'r').read()"
   ]
  },
  {
   "cell_type": "code",
   "execution_count": 20,
   "metadata": {},
   "outputs": [
    {
     "data": {
      "text/plain": [
       "2554"
      ]
     },
     "execution_count": 20,
     "metadata": {},
     "output_type": "execute_result"
    }
   ],
   "source": [
    "cnt = 0\n",
    "grid = content.split()\n",
    "for i, line in enumerate(grid):\n",
    "    for j, c in enumerate(line):\n",
    "        h = [(i,j), (i, j+1), (i, j+2), (i, j+3)]\n",
    "        v = [(i,j), (i+1, j), (i+2, j), (i+3, j)]\n",
    "        d1 = [(i,j), (i+1, j+1), (i+2, j+2), (i+3, j+3)]\n",
    "        d2 = [(i,j), (i-1, j+1), (i-2, j+2), (i-3, j+3)]\n",
    "        for o in [h,v,d1, d2]:\n",
    "            cnt += all(0<=n<len(grid) and 0<=m<len(line) and grid[n][m] == 'XMAS'[k]\n",
    "                 for k, (n,m) in enumerate(o))\n",
    "        for o in [h,v,d1, d2]:\n",
    "            cnt += all(0<=n<len(grid) and 0<=m<len(line) and grid[n][m] == 'SAMX'[k]\n",
    "                 for k, (n,m) in enumerate(o))\n",
    "cnt"
   ]
  },
  {
   "cell_type": "code",
   "execution_count": 22,
   "metadata": {},
   "outputs": [
    {
     "data": {
      "text/plain": [
       "1916"
      ]
     },
     "execution_count": 22,
     "metadata": {},
     "output_type": "execute_result"
    }
   ],
   "source": [
    "cnt = 0\n",
    "grid = content.split()\n",
    "for i, line in enumerate(grid):\n",
    "    for j, c in enumerate(line):\n",
    "        if i == 0 or i == len(grid) - 1:\n",
    "            continue\n",
    "        if j == 0 or j == len(line) - 1:\n",
    "            continue\n",
    "        if c != 'A':\n",
    "            continue\n",
    "        cnt += set([grid[i-1][j-1], grid[i+1][j+1]]) == {'M', 'S'} and set([grid[i+1][j-1], grid[i-1][j+1]]) == {'M', 'S'}\n",
    "cnt"
   ]
  },
  {
   "cell_type": "code",
   "execution_count": null,
   "metadata": {},
   "outputs": [],
   "source": []
  }
 ],
 "metadata": {
  "kernelspec": {
   "display_name": "Python 3",
   "language": "python",
   "name": "python3"
  },
  "language_info": {
   "codemirror_mode": {
    "name": "ipython",
    "version": 3
   },
   "file_extension": ".py",
   "mimetype": "text/x-python",
   "name": "python",
   "nbconvert_exporter": "python",
   "pygments_lexer": "ipython3",
   "version": "3.13.0"
  }
 },
 "nbformat": 4,
 "nbformat_minor": 2
}

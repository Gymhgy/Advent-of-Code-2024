{
 "cells": [
  {
   "cell_type": "code",
   "execution_count": 17,
   "metadata": {},
   "outputs": [],
   "source": [
    "inp = open('day19.txt', 'r').read()"
   ]
  },
  {
   "cell_type": "code",
   "execution_count": 18,
   "metadata": {},
   "outputs": [
    {
     "data": {
      "text/plain": [
       "358"
      ]
     },
     "execution_count": 18,
     "metadata": {},
     "output_type": "execute_result"
    }
   ],
   "source": [
    "towels, pats = inp.split('\\n\\n')\n",
    "towels = towels.split(', ')\n",
    "pats = pats.split()\n",
    "\n",
    "from functools import cache\n",
    "\n",
    "@cache\n",
    "def solve(p: str):\n",
    "    if p == '':\n",
    "        return True\n",
    "    for t in towels:\n",
    "        if p.startswith(t):\n",
    "            if solve(p[len(t):]):\n",
    "                return True\n",
    "    return False\n",
    "\n",
    "sum(solve(p) for p in pats)"
   ]
  },
  {
   "cell_type": "code",
   "execution_count": 20,
   "metadata": {},
   "outputs": [
    {
     "data": {
      "text/plain": [
       "600639829400603"
      ]
     },
     "execution_count": 20,
     "metadata": {},
     "output_type": "execute_result"
    }
   ],
   "source": [
    "@cache\n",
    "def solve(p: str):\n",
    "    cnt = 0\n",
    "    if p == '':\n",
    "        return 1\n",
    "    for t in towels:\n",
    "        if p.startswith(t):\n",
    "            cnt += solve(p[len(t):])\n",
    "    return cnt\n",
    "\n",
    "sum(solve(p) for p in pats)"
   ]
  },
  {
   "cell_type": "code",
   "execution_count": null,
   "metadata": {},
   "outputs": [],
   "source": []
  }
 ],
 "metadata": {
  "kernelspec": {
   "display_name": "Python 3",
   "language": "python",
   "name": "python3"
  },
  "language_info": {
   "codemirror_mode": {
    "name": "ipython",
    "version": 3
   },
   "file_extension": ".py",
   "mimetype": "text/x-python",
   "name": "python",
   "nbconvert_exporter": "python",
   "pygments_lexer": "ipython3",
   "version": "3.13.0"
  }
 },
 "nbformat": 4,
 "nbformat_minor": 2
}

{
 "cells": [
  {
   "cell_type": "code",
   "execution_count": 33,
   "metadata": {},
   "outputs": [],
   "source": [
    "inp = open('day22.txt', 'r').read()"
   ]
  },
  {
   "cell_type": "code",
   "execution_count": 34,
   "metadata": {},
   "outputs": [
    {
     "data": {
      "text/plain": [
       "15335183969"
      ]
     },
     "execution_count": 34,
     "metadata": {},
     "output_type": "execute_result"
    }
   ],
   "source": [
    "nums = list(map(int, inp.split()))\n",
    "\n",
    "def e(x):\n",
    "    r = x * 64\n",
    "    x ^= r\n",
    "    x %= 16777216\n",
    "    r = x // 32\n",
    "    x ^= r\n",
    "    x %= 16777216\n",
    "    r = x * 2048\n",
    "    x ^= r\n",
    "    x %= 16777216\n",
    "    return x\n",
    "\n",
    "def ee(x):\n",
    "    for i in range(2000):\n",
    "        x = e(x)\n",
    "    return x\n",
    "\n",
    "sum(ee(x) for x in nums)"
   ]
  },
  {
   "cell_type": "code",
   "execution_count": 37,
   "metadata": {},
   "outputs": [
    {
     "data": {
      "text/plain": [
       "1696"
      ]
     },
     "execution_count": 37,
     "metadata": {},
     "output_type": "execute_result"
    }
   ],
   "source": [
    "from collections import defaultdict, deque\n",
    "def ch(x):\n",
    "    last = deque([])\n",
    "    bests = defaultdict(int)\n",
    "    for i in range(2000):\n",
    "        last.append(e(x)%10 - x%10)\n",
    "        x = e(x)\n",
    "        if i < 3: continue\n",
    "        if i > 3: last.popleft()\n",
    "        if tuple(last) in bests:\n",
    "            continue\n",
    "        bests[tuple(last)] = x%10\n",
    "    return bests\n",
    "\n",
    "chs = [ch(x) for x in nums]\n",
    "keys = set().union(*chs)\n",
    "max(sum(c[k] for c in chs) for k in keys)"
   ]
  }
 ],
 "metadata": {
  "kernelspec": {
   "display_name": "Python 3",
   "language": "python",
   "name": "python3"
  },
  "language_info": {
   "codemirror_mode": {
    "name": "ipython",
    "version": 3
   },
   "file_extension": ".py",
   "mimetype": "text/x-python",
   "name": "python",
   "nbconvert_exporter": "python",
   "pygments_lexer": "ipython3",
   "version": "3.13.0"
  }
 },
 "nbformat": 4,
 "nbformat_minor": 2
}

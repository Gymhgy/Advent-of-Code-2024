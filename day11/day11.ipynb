{
 "cells": [
  {
   "cell_type": "code",
   "execution_count": 2,
   "metadata": {},
   "outputs": [],
   "source": [
    "inp = open('day11.txt', 'r').read()"
   ]
  },
  {
   "cell_type": "code",
   "execution_count": 5,
   "metadata": {},
   "outputs": [
    {
     "data": {
      "text/plain": [
       "189547"
      ]
     },
     "execution_count": 5,
     "metadata": {},
     "output_type": "execute_result"
    }
   ],
   "source": [
    "stones = list(map(int, inp.split()))\n",
    "for _ in range(25):\n",
    "    new = []\n",
    "    for s in stones:\n",
    "        if s == 0:\n",
    "            new.append(1)\n",
    "        elif len(str(s)) % 2 == 0:\n",
    "            s = str(s)\n",
    "            l = len(s)\n",
    "            new.append(int(s[:l//2]))\n",
    "            new.append(int(s[l//2:]))\n",
    "        else:\n",
    "            new.append(2024 * s)\n",
    "    stones = new\n",
    "\n",
    "len(stones)"
   ]
  },
  {
   "cell_type": "code",
   "execution_count": 6,
   "metadata": {},
   "outputs": [
    {
     "data": {
      "text/plain": [
       "224577979481346"
      ]
     },
     "execution_count": 6,
     "metadata": {},
     "output_type": "execute_result"
    }
   ],
   "source": [
    "from functools import cache\n",
    "stones = list(map(int, inp.split()))\n",
    "\n",
    "@cache\n",
    "def sim(s, i):\n",
    "    if i == 75:\n",
    "        return 1\n",
    "    if s == 0:\n",
    "        return sim(1, i+1)\n",
    "    elif len(str(s)) % 2 == 0:\n",
    "        s = str(s)\n",
    "        l = len(s)\n",
    "        return sim(int(s[:l//2]), i+1) + sim(int(s[l//2:]), i+1)\n",
    "    else:\n",
    "        return sim(2024*s, i+1)\n",
    "\n",
    "sum(sim(s, 0) for s in stones)"
   ]
  },
  {
   "cell_type": "code",
   "execution_count": null,
   "metadata": {},
   "outputs": [],
   "source": []
  }
 ],
 "metadata": {
  "kernelspec": {
   "display_name": "Python 3",
   "language": "python",
   "name": "python3"
  },
  "language_info": {
   "codemirror_mode": {
    "name": "ipython",
    "version": 3
   },
   "file_extension": ".py",
   "mimetype": "text/x-python",
   "name": "python",
   "nbconvert_exporter": "python",
   "pygments_lexer": "ipython3",
   "version": "3.13.0"
  }
 },
 "nbformat": 4,
 "nbformat_minor": 2
}

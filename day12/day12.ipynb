{
 "cells": [
  {
   "cell_type": "code",
   "execution_count": 82,
   "metadata": {},
   "outputs": [],
   "source": [
    "inp = open('day12.txt', 'r').read()"
   ]
  },
  {
   "cell_type": "code",
   "execution_count": null,
   "metadata": {},
   "outputs": [
    {
     "data": {
      "text/plain": [
       "1522850"
      ]
     },
     "execution_count": 83,
     "metadata": {},
     "output_type": "execute_result"
    }
   ],
   "source": [
    "grid = [list(x) for x in inp.split()]\n",
    "\n",
    "def dfs(grid, x, y, target, seen):\n",
    "    if grid[x][y] != target:\n",
    "        return 0, 0\n",
    "    if (x,y) in seen:\n",
    "        return 0, 0\n",
    "    seen.add((x,y))\n",
    "    per = 4\n",
    "    are = 1\n",
    "    for dx, dy in [(-1, 0), (1, 0), (0, -1), (0, 1)]:\n",
    "        nx, ny = x + dx, y + dy\n",
    "        if 0 <= nx < len(grid) and 0 <= ny < len(grid[0]):\n",
    "            if grid[nx][ny] == target:\n",
    "                per -= 1\n",
    "            a, b = dfs(grid, nx, ny, target, seen)\n",
    "            per += a\n",
    "            are += b\n",
    "    return per, are\n",
    "\n",
    "price = 0\n",
    "seen = set()\n",
    "for i, l in enumerate(grid):\n",
    "    for j, c in enumerate(l):\n",
    "        if (i,j) not in seen:\n",
    "            per, are = dfs(grid, i, j, c, seen)\n",
    "            price += per * are\n",
    "\n",
    "price"
   ]
  },
  {
   "cell_type": "code",
   "execution_count": 85,
   "metadata": {},
   "outputs": [
    {
     "data": {
      "text/plain": [
       "953738"
      ]
     },
     "execution_count": 85,
     "metadata": {},
     "output_type": "execute_result"
    }
   ],
   "source": [
    "from collections import deque\n",
    "\n",
    "def bfs(grid, x, y, target, seen):\n",
    "    are = 0\n",
    "    side = 0\n",
    "    q = deque([(x, y)])\n",
    "    tracker = set()\n",
    "    contributor = set()\n",
    "    while q:\n",
    "        x, y = q.popleft()\n",
    "        if grid[x][y] != target:\n",
    "            continue\n",
    "        if (x,y) in seen:\n",
    "            continue\n",
    "        seen.add((x,y))\n",
    "        are += 1\n",
    "        for dx, dy in [(-1, 0), (1, 0), (0, -1), (0, 1)]:\n",
    "            nx, ny = x + dx, y + dy\n",
    "            if 0 <= nx < len(grid) and 0 <= ny < len(grid[0]):\n",
    "                if grid[nx][ny] != target:\n",
    "                    if (nx + dy, ny + dx, dx, dy) not in tracker and (nx - dy, ny - dx, dx, dy) not in tracker:\n",
    "                        side += 1\n",
    "                        contributor.add((nx, ny, dx, dy))\n",
    "                    elif (nx + dy, ny + dx, dx, dy) in tracker and (nx - dy, ny - dx, dx, dy) in tracker:\n",
    "                        if (nx + dy, ny + dx, dx, dy) in contributor:\n",
    "                            contributor.remove((nx + dy, ny + dx, dx, dy))\n",
    "                        else: contributor.discard((nx - dy, ny - dx, dx, dy))\n",
    "\n",
    "                        side -= 1\n",
    "                    tracker.add((nx, ny, dx, dy))\n",
    "                q.append((nx, ny))\n",
    "            else:\n",
    "                if (nx + dy, ny + dx, dx, dy) not in tracker and (nx - dy, ny - dx, dx, dy) not in tracker:\n",
    "                    side += 1\n",
    "                    contributor.add((nx, ny, dx, dy))\n",
    "                elif (nx + dy, ny + dx, dx, dy) in tracker and (nx - dy, ny - dx, dx, dy) in tracker:\n",
    "                    if (nx + dy, ny + dx, dx, dy) in contributor:\n",
    "                        contributor.remove((nx + dy, ny + dx, dx, dy))\n",
    "                    else: contributor.discard((nx - dy, ny - dx, dx, dy))\n",
    "                    side -= 1\n",
    "                tracker.add((nx, ny, dx, dy))\n",
    "\n",
    "    return side, are\n",
    "\n",
    "price = 0\n",
    "seen = set()\n",
    "for i, l in enumerate(grid):\n",
    "    for j, c in enumerate(l):\n",
    "        if (i,j) not in seen:\n",
    "            per, are = bfs(grid, i, j, c, seen)\n",
    "            price += per * are\n",
    "price"
   ]
  },
  {
   "cell_type": "code",
   "execution_count": null,
   "metadata": {},
   "outputs": [],
   "source": []
  }
 ],
 "metadata": {
  "kernelspec": {
   "display_name": "Python 3",
   "language": "python",
   "name": "python3"
  },
  "language_info": {
   "codemirror_mode": {
    "name": "ipython",
    "version": 3
   },
   "file_extension": ".py",
   "mimetype": "text/x-python",
   "name": "python",
   "nbconvert_exporter": "python",
   "pygments_lexer": "ipython3",
   "version": "3.13.0"
  }
 },
 "nbformat": 4,
 "nbformat_minor": 2
}

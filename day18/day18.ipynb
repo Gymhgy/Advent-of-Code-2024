{
 "cells": [
  {
   "cell_type": "code",
   "execution_count": 35,
   "metadata": {},
   "outputs": [],
   "source": [
    "inp = open('day18.txt', 'r').read()"
   ]
  },
  {
   "cell_type": "code",
   "execution_count": 36,
   "metadata": {},
   "outputs": [
    {
     "data": {
      "text/plain": [
       "262"
      ]
     },
     "execution_count": 36,
     "metadata": {},
     "output_type": "execute_result"
    }
   ],
   "source": [
    "bs = inp.split()\n",
    "bs = [tuple(int(x) for x in b.split(',')) for b in bs]\n",
    "grid = [[0]*71 for _ in range(71)]\n",
    "for x, y in bs[:1024]:\n",
    "    grid[x][y] = 1\n",
    "\n",
    "from collections import defaultdict\n",
    "import heapq\n",
    "pq = [(0, (0, 0))]  \n",
    "distances = defaultdict(lambda: float('inf'))\n",
    "distances[(0, 0)] = 0\n",
    "while pq:\n",
    "    dist, (x, y) = heapq.heappop(pq)\n",
    "\n",
    "    if dist > distances[x, y]:\n",
    "        continue\n",
    "\n",
    "    for dx, dy in (-1, 0), (1, 0), (0, 1), (0, -1):\n",
    "        nx, ny = x + dx, y + dy\n",
    "        if not (0 <= nx < len(grid) and 0 <= ny < len(grid[0])):\n",
    "            continue\n",
    "        if grid[nx][ny]:\n",
    "            continue\n",
    "        distance = dist + 1\n",
    "        if distance < distances[nx, ny]:\n",
    "            distances[nx, ny] = distance\n",
    "            heapq.heappush(pq, (distance, (nx, ny)))\n",
    "\n",
    "distances[70,70]"
   ]
  },
  {
   "cell_type": "code",
   "execution_count": 37,
   "metadata": {},
   "outputs": [
    {
     "name": "stdout",
     "output_type": "stream",
     "text": [
      "22,20\n"
     ]
    }
   ],
   "source": [
    "for x, y in bs[1024:]:\n",
    "    b = x, y\n",
    "    grid[x][y] = 1\n",
    "    q = [(0, 0)]\n",
    "    visited = set()\n",
    "    while q:\n",
    "        (x, y) = q.pop()\n",
    "        if (x, y) in visited:\n",
    "            continue\n",
    "        visited.add((x, y))\n",
    "        for dx, dy in (-1, 0), (1, 0), (0, 1), (0, -1):\n",
    "            nx, ny = x + dx, y + dy\n",
    "            if not (0 <= nx < len(grid) and 0 <= ny < len(grid[0])):\n",
    "                continue\n",
    "            if grid[nx][ny]:\n",
    "                continue\n",
    "            q.append((nx, ny))\n",
    "\n",
    "    if (70, 70) not in visited:\n",
    "        print(f\"{b[0]},{b[1]}\")\n",
    "        break\n"
   ]
  }
 ],
 "metadata": {
  "kernelspec": {
   "display_name": "Python 3",
   "language": "python",
   "name": "python3"
  },
  "language_info": {
   "codemirror_mode": {
    "name": "ipython",
    "version": 3
   },
   "file_extension": ".py",
   "mimetype": "text/x-python",
   "name": "python",
   "nbconvert_exporter": "python",
   "pygments_lexer": "ipython3",
   "version": "3.13.0"
  }
 },
 "nbformat": 4,
 "nbformat_minor": 2
}

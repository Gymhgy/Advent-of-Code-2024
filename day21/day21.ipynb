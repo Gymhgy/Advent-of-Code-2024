{
 "cells": [
  {
   "cell_type": "code",
   "execution_count": 31,
   "metadata": {},
   "outputs": [],
   "source": [
    "inp = open('day21.txt', 'r').read()"
   ]
  },
  {
   "cell_type": "code",
   "execution_count": 34,
   "metadata": {},
   "outputs": [
    {
     "data": {
      "text/plain": [
       "163086"
      ]
     },
     "execution_count": 34,
     "metadata": {},
     "output_type": "execute_result"
    }
   ],
   "source": [
    "codes = inp.split()\n",
    "from functools import cache\n",
    "npad = {'7': (0, 0), '8': (0, 1), '9': (0, 2), '4': (1, 0), \n",
    "        '5': (1, 1), '6': (1, 2), '1': (2, 0), '2': (2, 1), \n",
    "        '3': (2, 2), '0': (3, 1), 'A': (3, 2)}\n",
    "dpad = {'<': (4, 0), '^': (3, 1), '>': (4, 2), 'v': (4, 1), 'A': (3, 2)}\n",
    "gap = (3, 0)\n",
    "\n",
    "paths = {}\n",
    "for g in npad, dpad:\n",
    "    for (a, (sx, sy)) in g.items():\n",
    "        for (b, (tx, ty)) in g.items():\n",
    "            hori = '>'*(ty - sy) + '<'*(sy - ty)\n",
    "            vert = '^'*(sx - tx) + 'v'*(tx - sx)\n",
    "            if ty - sy > 0 and (tx, sy) != gap:\n",
    "                paths[(a, b)] = vert + hori + 'A'\n",
    "            elif (sx, ty) != gap:\n",
    "                paths[(a, b)] = hori + vert + 'A'\n",
    "            else:\n",
    "                paths[(a, b)] = vert + hori + 'A'\n",
    "\n",
    "@cache\n",
    "def solve(code, r):\n",
    "    if r == 0:\n",
    "        return len(code)\n",
    "    cur = 'A'\n",
    "    cnt = 0\n",
    "    for c in code:\n",
    "        cnt += solve(paths[cur, c], r - 1)\n",
    "        cur = c\n",
    "    return cnt\n",
    "\n",
    "import re\n",
    "\n",
    "sum(solve(code, 3) * int(re.search(r'\\d+', code).group(0)) for code in codes)"
   ]
  },
  {
   "cell_type": "code",
   "execution_count": 35,
   "metadata": {},
   "outputs": [
    {
     "data": {
      "text/plain": [
       "198466286401228"
      ]
     },
     "execution_count": 35,
     "metadata": {},
     "output_type": "execute_result"
    }
   ],
   "source": [
    "sum(solve(code, 26) * int(re.search(r'\\d+', code).group(0)) for code in codes)"
   ]
  },
  {
   "cell_type": "code",
   "execution_count": null,
   "metadata": {},
   "outputs": [],
   "source": []
  }
 ],
 "metadata": {
  "kernelspec": {
   "display_name": "Python 3",
   "language": "python",
   "name": "python3"
  },
  "language_info": {
   "codemirror_mode": {
    "name": "ipython",
    "version": 3
   },
   "file_extension": ".py",
   "mimetype": "text/x-python",
   "name": "python",
   "nbconvert_exporter": "python",
   "pygments_lexer": "ipython3",
   "version": "3.13.0"
  }
 },
 "nbformat": 4,
 "nbformat_minor": 2
}

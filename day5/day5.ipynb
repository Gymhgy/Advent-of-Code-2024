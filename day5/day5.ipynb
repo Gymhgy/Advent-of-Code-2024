{
 "cells": [
  {
   "cell_type": "code",
   "execution_count": null,
   "metadata": {},
   "outputs": [],
   "source": [
    "0"
   ]
  },
  {
   "cell_type": "code",
   "execution_count": 42,
   "metadata": {},
   "outputs": [
    {
     "data": {
      "text/plain": [
       "5713"
      ]
     },
     "execution_count": 42,
     "metadata": {},
     "output_type": "execute_result"
    }
   ],
   "source": [
    "from collections import defaultdict\n",
    "edges, queries = inp.split('\\n\\n')\n",
    "adj = defaultdict(set)\n",
    "for a,b in [e.split('|') for e in edges.split()]:\n",
    "    adj[int(a)].add(int(b))\n",
    "\n",
    "cnt = 0\n",
    "for q in queries.split():\n",
    "    q = q.split(',')\n",
    "    seen = set()\n",
    "    bad = False\n",
    "    for n in q:\n",
    "        if seen & adj[int(n)]:\n",
    "            bad = True\n",
    "            break\n",
    "        seen.add(int(n))\n",
    "    if not bad:\n",
    "        cnt += int(q[len(q)//2])\n",
    "cnt"
   ]
  },
  {
   "cell_type": "code",
   "execution_count": null,
   "metadata": {},
   "outputs": [
    {
     "data": {
      "text/plain": [
       "5180"
      ]
     },
     "execution_count": 43,
     "metadata": {},
     "output_type": "execute_result"
    }
   ],
   "source": [
    "old_cnt = cnt\n",
    "cnt = 0\n",
    "for q in queries.split():\n",
    "    q = [int(n) for n in q.split(',')]\n",
    "    sq = set(q)\n",
    "    in_deg = {n: 0 for n in q}\n",
    "    for n in q:\n",
    "        for v in adj[n] & sq:\n",
    "            in_deg[v] += 1\n",
    "    \n",
    "    S = [n for n in q if in_deg[n] == 0]\n",
    "    topo = []\n",
    "    while S:\n",
    "        n = S.pop()\n",
    "        topo.append(n)\n",
    "        for m in adj[n] & sq:\n",
    "            in_deg[m] -= 1\n",
    "            if in_deg[m] == 0:\n",
    "                S.append(m)\n",
    "\n",
    "    cnt += topo[len(topo) // 2]\n",
    "cnt - old_cnt"
   ]
  },
  {
   "cell_type": "code",
   "execution_count": null,
   "metadata": {},
   "outputs": [],
   "source": []
  }
 ],
 "metadata": {
  "kernelspec": {
   "display_name": "Python 3",
   "language": "python",
   "name": "python3"
  },
  "language_info": {
   "codemirror_mode": {
    "name": "ipython",
    "version": 3
   },
   "file_extension": ".py",
   "mimetype": "text/x-python",
   "name": "python",
   "nbconvert_exporter": "python",
   "pygments_lexer": "ipython3",
   "version": "3.13.0"
  }
 },
 "nbformat": 4,
 "nbformat_minor": 2
}

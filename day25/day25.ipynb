{
 "cells": [
  {
   "cell_type": "code",
   "execution_count": 11,
   "metadata": {},
   "outputs": [],
   "source": [
    "inp = open('day25.txt', 'r').read()"
   ]
  },
  {
   "cell_type": "code",
   "execution_count": 13,
   "metadata": {},
   "outputs": [
    {
     "data": {
      "text/plain": [
       "3255"
      ]
     },
     "execution_count": 13,
     "metadata": {},
     "output_type": "execute_result"
    }
   ],
   "source": [
    "es = inp.split('\\n\\n')\n",
    "keys = []\n",
    "locks = []\n",
    "\n",
    "for e in es:\n",
    "    heights = [-1] * 5\n",
    "    for r in e.split():\n",
    "        for i, c in enumerate(r):\n",
    "            heights[i] += c == '#'\n",
    "    if e[0] == '.':\n",
    "        keys.append(heights)\n",
    "    else:\n",
    "        locks.append(heights)\n",
    "\n",
    "cnt = 0\n",
    "for lock in locks:\n",
    "    for key in keys:\n",
    "        cnt += all(l + k <= 5 for l, k in zip(lock, key))\n",
    "\n",
    "cnt"
   ]
  },
  {
   "cell_type": "code",
   "execution_count": null,
   "metadata": {},
   "outputs": [],
   "source": []
  }
 ],
 "metadata": {
  "kernelspec": {
   "display_name": "Python 3",
   "language": "python",
   "name": "python3"
  },
  "language_info": {
   "codemirror_mode": {
    "name": "ipython",
    "version": 3
   },
   "file_extension": ".py",
   "mimetype": "text/x-python",
   "name": "python",
   "nbconvert_exporter": "python",
   "pygments_lexer": "ipython3",
   "version": "3.13.0"
  }
 },
 "nbformat": 4,
 "nbformat_minor": 2
}

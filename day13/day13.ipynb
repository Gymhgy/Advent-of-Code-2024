{
 "cells": [
  {
   "cell_type": "code",
   "execution_count": 2,
   "metadata": {},
   "outputs": [],
   "source": [
    "inp = open('day13.txt', 'r').read()"
   ]
  },
  {
   "cell_type": "code",
   "execution_count": 5,
   "metadata": {},
   "outputs": [
    {
     "data": {
      "text/plain": [
       "26005"
      ]
     },
     "execution_count": 5,
     "metadata": {},
     "output_type": "execute_result"
    }
   ],
   "source": [
    "each = inp.split('\\n\\n')\n",
    "from functools import cache\n",
    "import re\n",
    "def solve(x1, y1, x2, y2, tx, ty):\n",
    "    @cache\n",
    "    def f(x, y):\n",
    "        if (x, y) == (tx, ty):\n",
    "            return 0\n",
    "        if x > tx or y > ty:\n",
    "            return float('inf')\n",
    "        return min(3 + f(x + x1, y + y1), 1 + f(x + x2, y + y2))\n",
    "    return f(0,0)\n",
    "\n",
    "sum(filter(lambda x: x != float('inf'), [solve(*[int(d) for d in re.findall(r\"\\d+\", e)]) for e in each]))"
   ]
  },
  {
   "cell_type": "code",
   "execution_count": 14,
   "metadata": {},
   "outputs": [
    {
     "data": {
      "text/latex": [
       "$\\displaystyle 105620095782547$"
      ],
      "text/plain": [
       "105620095782547"
      ]
     },
     "execution_count": 14,
     "metadata": {},
     "output_type": "execute_result"
    }
   ],
   "source": [
    "from math import gcd\n",
    "from sympy import symbols, Eq\n",
    "import sympy\n",
    "\n",
    "def solve(x1, y1, x2, y2, tx, ty):\n",
    "    a, b = symbols('a b', integer=True)\n",
    "    eqs = [Eq(a * x1 + b * x2, tx+10000000000000),\n",
    "           Eq(a * y1 + b * y2, ty+10000000000000)]\n",
    "    sols = sympy.solve(eqs, (a, b), dict=True)\n",
    "    cost = float('inf')\n",
    "    for sol in sols:\n",
    "        a, b = sol[a], sol[b]\n",
    "        if a < 0 or b < 0:\n",
    "            continue\n",
    "        cost = min(cost, 3 * a + b)\n",
    "    return cost\n",
    "\n",
    "sum(filter(lambda x: x != float('inf'), [solve(*[int(d) for d in re.findall(r\"\\d+\", e)]) for e in each]))"
   ]
  },
  {
   "cell_type": "code",
   "execution_count": null,
   "metadata": {},
   "outputs": [],
   "source": []
  }
 ],
 "metadata": {
  "kernelspec": {
   "display_name": "Python 3",
   "language": "python",
   "name": "python3"
  },
  "language_info": {
   "codemirror_mode": {
    "name": "ipython",
    "version": 3
   },
   "file_extension": ".py",
   "mimetype": "text/x-python",
   "name": "python",
   "nbconvert_exporter": "python",
   "pygments_lexer": "ipython3",
   "version": "3.13.0"
  }
 },
 "nbformat": 4,
 "nbformat_minor": 2
}

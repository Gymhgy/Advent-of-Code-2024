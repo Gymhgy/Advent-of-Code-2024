{
 "cells": [
  {
   "cell_type": "code",
   "execution_count": 21,
   "metadata": {},
   "outputs": [],
   "source": [
    "inp = open('day6.txt', 'r').read()"
   ]
  },
  {
   "cell_type": "code",
   "execution_count": 22,
   "metadata": {},
   "outputs": [
    {
     "data": {
      "text/plain": [
       "5404"
      ]
     },
     "execution_count": 22,
     "metadata": {},
     "output_type": "execute_result"
    }
   ],
   "source": [
    "lines = inp.split()\n",
    "x = [i for i in range(len(lines)) if '^' in lines[i]][0]\n",
    "y = lines[x].index('^')\n",
    "\n",
    "seen = set()\n",
    "dx = -1\n",
    "dy = 0\n",
    "while True:\n",
    "    seen.add((x, y))\n",
    "    if not (0 <= x + dx < len(lines) and 0 <= y + dy < len(lines[0])):\n",
    "        break\n",
    "    while not (lines[x+dx][y+dy] != '#'):\n",
    "        dx, dy = dy, -dx\n",
    "    x += dx\n",
    "    y += dy\n",
    "\n",
    "len(seen)"
   ]
  },
  {
   "cell_type": "code",
   "execution_count": 24,
   "metadata": {},
   "outputs": [
    {
     "data": {
      "text/plain": [
       "1984"
      ]
     },
     "execution_count": 24,
     "metadata": {},
     "output_type": "execute_result"
    }
   ],
   "source": [
    "x = [i for i in range(len(lines)) if '^' in lines[i]][0]\n",
    "y = lines[x].index('^')\n",
    "def sim(ob, x, y):\n",
    "    seen = set()\n",
    "    dx = -1\n",
    "    dy = 0\n",
    "    while (x, y, dx, dy) not in seen:\n",
    "        seen.add((x, y, dx, dy))\n",
    "        if not (0 <= x + dx < len(lines) and 0 <= y + dy < len(lines[0])):\n",
    "            return False\n",
    "        while not (lines[x+dx][y+dy] != '#' and (x+dx, y+dy) != ob):\n",
    "            dx, dy = dy, -dx\n",
    "        x += dx\n",
    "        y += dy\n",
    "    return True\n",
    "\n",
    "cnt = 0\n",
    "for i, l in enumerate(lines):\n",
    "    for j, c in enumerate(l):\n",
    "        if c != '.':\n",
    "            continue\n",
    "        cnt += sim((i, j), x, y)\n",
    "\n",
    "cnt"
   ]
  },
  {
   "cell_type": "code",
   "execution_count": null,
   "metadata": {},
   "outputs": [],
   "source": []
  }
 ],
 "metadata": {
  "kernelspec": {
   "display_name": "Python 3",
   "language": "python",
   "name": "python3"
  },
  "language_info": {
   "codemirror_mode": {
    "name": "ipython",
    "version": 3
   },
   "file_extension": ".py",
   "mimetype": "text/x-python",
   "name": "python",
   "nbconvert_exporter": "python",
   "pygments_lexer": "ipython3",
   "version": "3.13.0"
  }
 },
 "nbformat": 4,
 "nbformat_minor": 2
}

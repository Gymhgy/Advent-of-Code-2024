{
 "cells": [
  {
   "cell_type": "code",
   "execution_count": 62,
   "metadata": {},
   "outputs": [],
   "source": [
    "inp = open('day16.txt', 'r').read()"
   ]
  },
  {
   "cell_type": "code",
   "execution_count": 63,
   "metadata": {},
   "outputs": [
    {
     "data": {
      "text/plain": [
       "160624"
      ]
     },
     "execution_count": 63,
     "metadata": {},
     "output_type": "execute_result"
    }
   ],
   "source": [
    "grid = inp.split()\n",
    "x = [i for i in range(len(grid)) if 'S' in grid[i]][0]\n",
    "y = grid[x].index('S')\n",
    "\n",
    "import heapq\n",
    "from collections import defaultdict\n",
    "\n",
    "pq = [(0, (x, y, 0, 1))]  \n",
    "distances = defaultdict(lambda: float('inf'))\n",
    "distances[(x, y, 0, 1)] = 0\n",
    "score = 0\n",
    "while pq:\n",
    "    dist, current_node = heapq.heappop(pq)\n",
    "\n",
    "    xx, yy, dx, dy = current_node\n",
    "    if dist > distances[current_node]:\n",
    "        continue\n",
    "    if grid[xx][yy] == 'E':\n",
    "        score = dist\n",
    "        break\n",
    "    for w, nx, ny in \\\n",
    "    (1, dx, dy), (1001, -dy, dx), (1001, dy, -dx):\n",
    "        if grid[xx + nx][yy + ny] == '#':\n",
    "            continue\n",
    "        distance = dist + w\n",
    "        if distance < distances[(xx + nx, yy + ny, nx, ny)]:\n",
    "            distances[(xx + nx, yy + ny, nx, ny)] = distance\n",
    "            heapq.heappush(pq, (distance, (xx + nx, yy + ny, nx, ny)))\n",
    "\n",
    "\n",
    "score"
   ]
  },
  {
   "cell_type": "code",
   "execution_count": 65,
   "metadata": {},
   "outputs": [
    {
     "data": {
      "text/plain": [
       "692"
      ]
     },
     "execution_count": 65,
     "metadata": {},
     "output_type": "execute_result"
    }
   ],
   "source": [
    "grid = inp.split()\n",
    "x = [i for i in range(len(grid)) if 'S' in grid[i]][0]\n",
    "y = grid[x].index('S')\n",
    "\n",
    "import heapq\n",
    "from collections import defaultdict\n",
    "\n",
    "pq = [(0, (x, y, 0, 1))]  \n",
    "distances = defaultdict(lambda: float('inf'))\n",
    "distances[(x, y, 0, 1)] = 0\n",
    "prev = defaultdict(lambda: [])\n",
    "score = float('inf')\n",
    "best_ends = []\n",
    "while pq:\n",
    "    dist, current_node = heapq.heappop(pq)\n",
    "\n",
    "    xx, yy, dx, dy = current_node\n",
    "    if dist > distances[current_node]:\n",
    "        continue\n",
    "    if grid[xx][yy] == 'E':\n",
    "        if dist > score:\n",
    "            continue\n",
    "        score = dist\n",
    "        best_ends.append(current_node)\n",
    "\n",
    "        continue\n",
    "    for w, next in (1, (xx + dx, yy + dy, dx, dy)), \\\n",
    "                     (1000, (xx, yy, -dy, dx)), \\\n",
    "                     (1000, (xx, yy, dy, -dx)):\n",
    "        nx, ny, _, _ = next\n",
    "        if grid[nx][ny] == '#':\n",
    "            continue\n",
    "        distance = dist + w\n",
    "        if distance < distances[next]:\n",
    "            prev[next] = [current_node]\n",
    "            distances[next] = distance\n",
    "            heapq.heappush(pq, (distance, next))\n",
    "        elif distance == distances[next]:\n",
    "            prev[next].append(current_node)\n",
    "\n",
    "sits = set()\n",
    "st = list(best_ends)\n",
    "while st:\n",
    "    node = st.pop()\n",
    "    x, y, _, _ = node\n",
    "    for p in prev[node]:\n",
    "        st.append(p)\n",
    "    sits.add((x,y))\n",
    "\n",
    "\n",
    "len(sits)"
   ]
  },
  {
   "cell_type": "code",
   "execution_count": null,
   "metadata": {},
   "outputs": [],
   "source": []
  }
 ],
 "metadata": {
  "kernelspec": {
   "display_name": "Python 3",
   "language": "python",
   "name": "python3"
  },
  "language_info": {
   "codemirror_mode": {
    "name": "ipython",
    "version": 3
   },
   "file_extension": ".py",
   "mimetype": "text/x-python",
   "name": "python",
   "nbconvert_exporter": "python",
   "pygments_lexer": "ipython3",
   "version": "3.13.0"
  }
 },
 "nbformat": 4,
 "nbformat_minor": 2
}

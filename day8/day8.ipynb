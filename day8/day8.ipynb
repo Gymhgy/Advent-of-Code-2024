{
 "cells": [
  {
   "cell_type": "code",
   "execution_count": 22,
   "metadata": {},
   "outputs": [],
   "source": [
    "inp = open('day8.txt', 'r').read()"
   ]
  },
  {
   "cell_type": "code",
   "execution_count": 23,
   "metadata": {},
   "outputs": [
    {
     "data": {
      "text/plain": [
       "371"
      ]
     },
     "execution_count": 23,
     "metadata": {},
     "output_type": "execute_result"
    }
   ],
   "source": [
    "cs = set(inp)\n",
    "cs.remove('.')\n",
    "cs.remove('\\n')\n",
    "\n",
    "grid = inp.split()\n",
    "def inside(x, y):\n",
    "    return 0 <= x < len(grid) and 0 <= y < len(grid[0])\n",
    "\n",
    "inds = {c: [] for c in cs}\n",
    "for x, line in enumerate(grid):\n",
    "    for y, c in enumerate(line):\n",
    "        if c in inds:\n",
    "            inds[c].append((x,y))\n",
    "\n",
    "import itertools\n",
    "seen = set()\n",
    "for _, coords in inds.items():\n",
    "    for (x1, y1), (x2, y2) in itertools.combinations(coords, 2):\n",
    "        dx = x1 - x2\n",
    "        dy = y1 - y2\n",
    "        if inside(x1 + dx, y1 + dy):\n",
    "            seen.add((x1 + dx, y1 + dy))\n",
    "        if inside(x2 - dx, y2 - dy):\n",
    "            seen.add((x2 - dx, y2 - dy))\n",
    "\n",
    "len(seen)"
   ]
  },
  {
   "cell_type": "code",
   "execution_count": 24,
   "metadata": {},
   "outputs": [
    {
     "data": {
      "text/plain": [
       "1229"
      ]
     },
     "execution_count": 24,
     "metadata": {},
     "output_type": "execute_result"
    }
   ],
   "source": [
    "seen = set()\n",
    "import math\n",
    "for _, coords in inds.items():\n",
    "    seen.update(coords)\n",
    "    for (x1, y1), (x2, y2) in itertools.combinations(coords, 2):\n",
    "        dx = x1 - x2\n",
    "        dy = y1 - y2\n",
    "        gcd = math.gcd(dx, dy)\n",
    "        dx /= gcd\n",
    "        dy /= gcd\n",
    "        while inside(x1 + dx, y1 + dy):\n",
    "            seen.add((x1 + dx, y1 + dy))\n",
    "            x1 += dx\n",
    "            y1 += dy    \n",
    "        while inside(x2 - dx, y2 - dy):\n",
    "            seen.add((x2 - dx, y2 - dy))\n",
    "            x2 -= dx\n",
    "            y2 -= dy\n",
    "len(seen)"
   ]
  }
 ],
 "metadata": {
  "kernelspec": {
   "display_name": "Python 3",
   "language": "python",
   "name": "python3"
  },
  "language_info": {
   "codemirror_mode": {
    "name": "ipython",
    "version": 3
   },
   "file_extension": ".py",
   "mimetype": "text/x-python",
   "name": "python",
   "nbconvert_exporter": "python",
   "pygments_lexer": "ipython3",
   "version": "3.13.0"
  }
 },
 "nbformat": 4,
 "nbformat_minor": 2
}

{
 "cells": [
  {
   "cell_type": "code",
   "execution_count": 5,
   "metadata": {},
   "outputs": [],
   "source": [
    "inp = open('day10.txt', 'r').read()"
   ]
  },
  {
   "cell_type": "code",
   "execution_count": 6,
   "metadata": {},
   "outputs": [
    {
     "data": {
      "text/plain": [
       "694"
      ]
     },
     "execution_count": 6,
     "metadata": {},
     "output_type": "execute_result"
    }
   ],
   "source": [
    "grid = inp.split()\n",
    "\n",
    "def flood_fill(grid, x, y, target, seen):\n",
    "    if (x, y) in seen:\n",
    "        return 0\n",
    "    if grid[x][y] != target:\n",
    "        return 0\n",
    "    seen.add((x, y))\n",
    "    if grid[x][y] == '9':\n",
    "        return 1\n",
    "    cnt = 0\n",
    "    for dx, dy in [(-1, 0), (1, 0), (0, -1), (0, 1)]:\n",
    "        nx, ny = x + dx, y + dy\n",
    "        if 0 <= nx < len(grid) and 0 <= ny < len(grid[0]):\n",
    "            cnt += flood_fill(grid, nx, ny, str(int(target) + 1), seen)\n",
    "    return cnt\n",
    "\n",
    "cnt = 0\n",
    "for i, l in enumerate(grid):\n",
    "    for j, c in enumerate(l):\n",
    "        if c == '0':\n",
    "            seen = set()\n",
    "            cnt += flood_fill(grid, i, j, \"0\", seen)\n",
    "\n",
    "cnt"
   ]
  },
  {
   "cell_type": "code",
   "execution_count": 7,
   "metadata": {},
   "outputs": [
    {
     "data": {
      "text/plain": [
       "1497"
      ]
     },
     "execution_count": 7,
     "metadata": {},
     "output_type": "execute_result"
    }
   ],
   "source": [
    "def flood_fill(grid, x, y, target):\n",
    "    if grid[x][y] != target:\n",
    "        return 0\n",
    "    if grid[x][y] == '9':\n",
    "        return 1\n",
    "    cnt = 0\n",
    "    for dx, dy in [(-1, 0), (1, 0), (0, -1), (0, 1)]:\n",
    "        nx, ny = x + dx, y + dy\n",
    "        if 0 <= nx < len(grid) and 0 <= ny < len(grid[0]):\n",
    "            cnt += flood_fill(grid, nx, ny, str(int(target) + 1))\n",
    "    return cnt\n",
    "\n",
    "cnt = 0\n",
    "for i, l in enumerate(grid):\n",
    "    for j, c in enumerate(l):\n",
    "        if c == '0':\n",
    "            seen = set()\n",
    "            cnt += flood_fill(grid, i, j, \"0\")\n",
    "\n",
    "cnt"
   ]
  },
  {
   "cell_type": "code",
   "execution_count": null,
   "metadata": {},
   "outputs": [],
   "source": []
  }
 ],
 "metadata": {
  "kernelspec": {
   "display_name": "Python 3",
   "language": "python",
   "name": "python3"
  },
  "language_info": {
   "codemirror_mode": {
    "name": "ipython",
    "version": 3
   },
   "file_extension": ".py",
   "mimetype": "text/x-python",
   "name": "python",
   "nbconvert_exporter": "python",
   "pygments_lexer": "ipython3",
   "version": "3.13.0"
  }
 },
 "nbformat": 4,
 "nbformat_minor": 2
}

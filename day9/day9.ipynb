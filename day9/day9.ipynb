{
 "cells": [
  {
   "cell_type": "code",
   "execution_count": 80,
   "metadata": {},
   "outputs": [],
   "source": [
    "inp = open('day9.txt', 'r').read()"
   ]
  },
  {
   "cell_type": "code",
   "execution_count": 81,
   "metadata": {},
   "outputs": [
    {
     "data": {
      "text/plain": [
       "6435922584968"
      ]
     },
     "execution_count": 81,
     "metadata": {},
     "output_type": "execute_result"
    }
   ],
   "source": [
    "inp = list(map(int, inp))\n",
    "gaps = inp[1::2]\n",
    "files = inp[::2]\n",
    "gaps, files\n",
    "end = len(files) - 1\n",
    "id = 0\n",
    "ind = 0\n",
    "cnt = 0\n",
    "for i in range(len(files)):\n",
    "    b = files[i]\n",
    "    if b == 0:\n",
    "        break\n",
    "    for _ in range(b):\n",
    "        cnt += ind * id\n",
    "        ind += 1\n",
    "    id += 1\n",
    "    g = gaps[i]\n",
    "    if end < id:\n",
    "        break\n",
    "    for _ in range(g):\n",
    "        while files[end] == 0:\n",
    "            end -= 1\n",
    "        files[end] -= 1\n",
    "        cnt += end * ind\n",
    "        ind += 1\n",
    "cnt"
   ]
  },
  {
   "cell_type": "code",
   "execution_count": 82,
   "metadata": {},
   "outputs": [
    {
     "data": {
      "text/plain": [
       "19094974630026"
      ]
     },
     "execution_count": 82,
     "metadata": {},
     "output_type": "execute_result"
    }
   ],
   "source": [
    "for i in range(len(inp)):\n",
    "    inp[i] = (ind, inp[i])\n",
    "    ind += inp[i][1]\n",
    "inp\n",
    "gaps = inp[1::2]\n",
    "files = inp[::2]\n",
    "gaps, files\n",
    "cnt = 0\n",
    "for i in range(len(files) - 1, -1, -1):\n",
    "    _, b = files[i]\n",
    "    for j in range(i):\n",
    "        ind, g = gaps[j]\n",
    "        if g < b:\n",
    "            continue\n",
    "        files[i] = (ind, b)\n",
    "        gaps[j] = (ind + b, g - b)\n",
    "        break\n",
    "\n",
    "id = 0\n",
    "for id, (ind, b) in enumerate(files):\n",
    "    for _ in range(b):\n",
    "        cnt += ind * id\n",
    "        ind += 1\n",
    "cnt"
   ]
  },
  {
   "cell_type": "code",
   "execution_count": null,
   "metadata": {},
   "outputs": [],
   "source": []
  }
 ],
 "metadata": {
  "kernelspec": {
   "display_name": "Python 3",
   "language": "python",
   "name": "python3"
  },
  "language_info": {
   "codemirror_mode": {
    "name": "ipython",
    "version": 3
   },
   "file_extension": ".py",
   "mimetype": "text/x-python",
   "name": "python",
   "nbconvert_exporter": "python",
   "pygments_lexer": "ipython3",
   "version": "3.13.0"
  }
 },
 "nbformat": 4,
 "nbformat_minor": 2
}

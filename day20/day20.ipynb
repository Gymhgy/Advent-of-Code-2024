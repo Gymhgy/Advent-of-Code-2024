{
 "cells": [
  {
   "cell_type": "code",
   "execution_count": 4,
   "metadata": {},
   "outputs": [],
   "source": [
    "inp = open('day20.txt', 'r').read()"
   ]
  },
  {
   "cell_type": "code",
   "execution_count": 6,
   "metadata": {},
   "outputs": [
    {
     "data": {
      "text/plain": [
       "1417"
      ]
     },
     "execution_count": 6,
     "metadata": {},
     "output_type": "execute_result"
    }
   ],
   "source": [
    "grid = inp.split()\n",
    "\n",
    "x = [i for i in range(len(grid)) if 'S' in grid[i]][0]\n",
    "y = grid[x].index('S')\n",
    "\n",
    "\n",
    "dist = {(x,y): 0}\n",
    "q = [(x,y)]\n",
    "\n",
    "while q:\n",
    "    x, y = q.pop()\n",
    "    for dx, dy in (0, 1), (0, -1), (1, 0), (-1, 0):\n",
    "        nx, ny = x + dx, y + dy\n",
    "        if not (0 <= nx < len(grid) and 0 <= ny < len(grid[0])):\n",
    "            continue\n",
    "        if grid[nx][ny] == '#':\n",
    "            continue\n",
    "        if (nx, ny) not in dist:\n",
    "            dist[(nx, ny)] = dist[(x, y)] + 1\n",
    "            q.append((nx, ny))\n",
    "\n",
    "\n",
    "cnt = 0\n",
    "\n",
    "from itertools import combinations\n",
    "for ((x1, y1), i), ((x2, y2), j) in combinations(dist.items(), 2):\n",
    "    d = abs(x1 - x2) + abs(y1 - y2)\n",
    "    if d == 2 and j-i-d >= 100: cnt += 1\n",
    "\n",
    "cnt"
   ]
  },
  {
   "cell_type": "code",
   "execution_count": 8,
   "metadata": {},
   "outputs": [
    {
     "data": {
      "text/plain": [
       "1014683"
      ]
     },
     "execution_count": 8,
     "metadata": {},
     "output_type": "execute_result"
    }
   ],
   "source": [
    "cnt = 0\n",
    "for ((x1, y1), i), ((x2, y2), j) in combinations(dist.items(), 2):\n",
    "    d = abs(x1 - x2) + abs(y1 - y2)\n",
    "    if d <= 20 and j-i-d >= 100: cnt += 1\n",
    "\n",
    "cnt"
   ]
  }
 ],
 "metadata": {
  "kernelspec": {
   "display_name": "Python 3",
   "language": "python",
   "name": "python3"
  },
  "language_info": {
   "codemirror_mode": {
    "name": "ipython",
    "version": 3
   },
   "file_extension": ".py",
   "mimetype": "text/x-python",
   "name": "python",
   "nbconvert_exporter": "python",
   "pygments_lexer": "ipython3",
   "version": "3.13.0"
  }
 },
 "nbformat": 4,
 "nbformat_minor": 2
}

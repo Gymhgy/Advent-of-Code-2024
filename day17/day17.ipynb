{
 "cells": [
  {
   "cell_type": "code",
   "execution_count": 12,
   "metadata": {},
   "outputs": [],
   "source": [
    "inp = open('day17.txt', 'r').read()"
   ]
  },
  {
   "cell_type": "code",
   "execution_count": 13,
   "metadata": {},
   "outputs": [
    {
     "data": {
      "text/plain": [
       "'7,1,3,4,1,2,6,7,1'"
      ]
     },
     "execution_count": 13,
     "metadata": {},
     "output_type": "execute_result"
    }
   ],
   "source": [
    "rs, inst = inp.split('\\n\\n')\n",
    "import re\n",
    "A, B, C = [int(d) for d in re.findall(r\"-?\\d+\", rs)]\n",
    "inst = inst.split()[1]\n",
    "inst = [int(d) for d in inst.split(',')]\n",
    "combo = lambda i: [0,1,2,3, A, B, C][i]\n",
    "\n",
    "i = 0\n",
    "out = []\n",
    "while i < len(inst):\n",
    "    cur = inst[i]\n",
    "    next = inst[i + 1]\n",
    "    match cur:\n",
    "        case 0:\n",
    "            A //= 2**combo(next)\n",
    "        case 1:\n",
    "            B ^= next\n",
    "        case 2:\n",
    "            B = combo(next) % 8\n",
    "        case 3:\n",
    "            if A:\n",
    "                i = next\n",
    "                continue\n",
    "        case 4:\n",
    "            B ^= C\n",
    "        case 5:\n",
    "            out.append(combo(next) % 8)\n",
    "        case 6:\n",
    "            B = A // 2**combo(next)\n",
    "        case 7:\n",
    "            C = A // 2**combo(next)\n",
    "    i += 2\n",
    "\n",
    "','.join(str(x) for x in out)"
   ]
  },
  {
   "cell_type": "code",
   "execution_count": 62,
   "metadata": {},
   "outputs": [
    {
     "name": "stdout",
     "output_type": "stream",
     "text": [
      "[2, 4, 1, 5, 7, 5, 0, 3, 4, 0, 1, 6, 5, 5, 3, 0]\n",
      "B = A % 8\n",
      "B = B ^ 5\n",
      "C = A // 2 ** B\n",
      "A = A // 2 ** 3\n",
      "B = B ^ C\n",
      "B = B ^ 6\n",
      "out: 0 B\n"
     ]
    },
    {
     "data": {
      "text/plain": [
       "109019476330651"
      ]
     },
     "execution_count": 62,
     "metadata": {},
     "output_type": "execute_result"
    }
   ],
   "source": [
    "#We see that A //= 8 every iteration\n",
    "#Thus we get log8(A) + 1 iterations\n",
    "#We need 16 iterations, thus A is at least 8^15\n",
    "A = 3\n",
    "i = 0\n",
    "vis = [0, 1,2,3, 'A', 'B', 'C']\n",
    "print(inst)\n",
    "while i < len(inst):\n",
    "    cur = inst[i]\n",
    "    next = inst[i + 1]\n",
    "    match cur:\n",
    "        case 0:\n",
    "            A //= 2**combo(next)\n",
    "            print(\"A = A // 2 **\", vis[next])\n",
    "        case 1:\n",
    "            B ^= next\n",
    "            print(\"B = B ^\", next)\n",
    "        case 2:\n",
    "            B = combo(next) % 8\n",
    "            print(\"B =\", vis[next], \"% 8\")\n",
    "        case 3:\n",
    "            ...\n",
    "        case 4:\n",
    "            B ^= C\n",
    "            print(\"B = B ^ C\")\n",
    "        case 5:\n",
    "            out.append(combo(next) % 8)\n",
    "            print(\"out:\", combo(next), vis[next])\n",
    "        case 6:\n",
    "            B = A // 2**combo(next)\n",
    "            print(\"B = A // 2 **\", vis[next])\n",
    "        case 7:\n",
    "            C = A // 2**combo(next)\n",
    "            print(\"C = A // 2 **\", vis[next])\n",
    "    i += 2\n",
    "\n",
    "#B = A % 8\n",
    "#B = B ^ 5\n",
    "#C = A // 2 ** B\n",
    "#A = A // 2 ** 3\n",
    "#B = B ^ C\n",
    "#B = B ^ 6\n",
    "#print(B) = print(((A % 8 ^ 5) ^ (A // 2**(A % 8 ^ 5))) ^ 6)\n",
    "\n",
    "#B = (A % 8 ^ 5) ^ (A // 2 ** (A % 8 ^ 5)) ^ 6\n",
    "\n",
    "#0b000\n",
    "#0b101\n",
    "#0b110\n",
    "#0b011\n",
    "\n",
    "As = [0]\n",
    "\n",
    "for i in inst[::-1]:\n",
    "    #print(\"inst:\", i)\n",
    "    next = []\n",
    "    for A in As:\n",
    "        for n in range(8):\n",
    "            if ((n ^ 5) ^ ((A * 8 + n) // 2**(n^5)) ^ 6) % 8 == i:\n",
    "                next.append(A * 8 + n)\n",
    "    As = next\n",
    "\n",
    "min(As)"
   ]
  },
  {
   "cell_type": "code",
   "execution_count": null,
   "metadata": {},
   "outputs": [],
   "source": []
  }
 ],
 "metadata": {
  "kernelspec": {
   "display_name": "Python 3",
   "language": "python",
   "name": "python3"
  },
  "language_info": {
   "codemirror_mode": {
    "name": "ipython",
    "version": 3
   },
   "file_extension": ".py",
   "mimetype": "text/x-python",
   "name": "python",
   "nbconvert_exporter": "python",
   "pygments_lexer": "ipython3",
   "version": "3.13.0"
  }
 },
 "nbformat": 4,
 "nbformat_minor": 2
}

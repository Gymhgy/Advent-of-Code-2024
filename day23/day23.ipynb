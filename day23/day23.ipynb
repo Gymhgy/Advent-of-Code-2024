{
 "cells": [
  {
   "cell_type": "code",
   "execution_count": 2,
   "metadata": {},
   "outputs": [],
   "source": [
    "inp = open('day23.txt', 'r').read()"
   ]
  },
  {
   "cell_type": "code",
   "execution_count": 34,
   "metadata": {},
   "outputs": [
    {
     "data": {
      "text/plain": [
       "1599"
      ]
     },
     "execution_count": 34,
     "metadata": {},
     "output_type": "execute_result"
    }
   ],
   "source": [
    "edges = inp.split()\n",
    "\n",
    "adj = {}\n",
    "\n",
    "for edge in edges:\n",
    "    n1, n2 = edge.split('-')\n",
    "    if n1 not in adj:\n",
    "        adj[n1] = set()\n",
    "    if n2 not in adj:\n",
    "        adj[n2] = set()\n",
    "    adj[n1].add(n2)\n",
    "    adj[n2].add(n1)\n",
    "\n",
    "\n",
    "cliques = []\n",
    "for node in adj:\n",
    "    neighbors = adj[node]\n",
    "    for neighbor1 in neighbors:\n",
    "        for neighbor2 in neighbors:\n",
    "            if neighbor1 != neighbor2 and neighbor2 in adj[neighbor1]:\n",
    "                clique = tuple(sorted([node, neighbor1, neighbor2]))\n",
    "                if clique not in cliques:\n",
    "                    cliques.append(clique)\n",
    "\n",
    "len([c for c in cliques if any(x[0] == 't' for x in c)])"
   ]
  },
  {
   "cell_type": "code",
   "execution_count": 17,
   "metadata": {},
   "outputs": [
    {
     "data": {
      "text/plain": [
       "'av,ax,dg,di,dw,fa,ge,kh,ki,ot,qw,vz,yw'"
      ]
     },
     "execution_count": 17,
     "metadata": {},
     "output_type": "execute_result"
    }
   ],
   "source": [
    "import networkx as nx\n",
    "\n",
    "edges = inp.split()\n",
    "\n",
    "G = nx.Graph()\n",
    "for edge in edges:\n",
    "    node1, node2 = edge.split('-')\n",
    "    G.add_edge(node1, node2)\n",
    "\n",
    "cliques = list(nx.find_cliques(G))\n",
    "','.join(sorted(sorted(cliques, key=len, reverse=True)[0]))"
   ]
  },
  {
   "cell_type": "code",
   "execution_count": 33,
   "metadata": {},
   "outputs": [
    {
     "data": {
      "text/plain": [
       "1599"
      ]
     },
     "execution_count": 33,
     "metadata": {},
     "output_type": "execute_result"
    }
   ],
   "source": [
    "from itertools import combinations\n",
    "cnt = 0\n",
    "for clique in cliques:\n",
    "    cnt += sum(any(x[0] == 't' for x in c) for c in combinations(clique, 3))\n",
    "cnt"
   ]
  },
  {
   "cell_type": "code",
   "execution_count": null,
   "metadata": {},
   "outputs": [],
   "source": []
  }
 ],
 "metadata": {
  "kernelspec": {
   "display_name": "Python 3",
   "language": "python",
   "name": "python3"
  },
  "language_info": {
   "codemirror_mode": {
    "name": "ipython",
    "version": 3
   },
   "file_extension": ".py",
   "mimetype": "text/x-python",
   "name": "python",
   "nbconvert_exporter": "python",
   "pygments_lexer": "ipython3",
   "version": "3.13.0"
  }
 },
 "nbformat": 4,
 "nbformat_minor": 2
}
